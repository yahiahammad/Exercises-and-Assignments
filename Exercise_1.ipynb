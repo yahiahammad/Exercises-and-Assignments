{
 "cells": [
  {
   "cell_type": "code",
   "execution_count": 31,
   "id": "52e2e144-3488-4566-baad-67f89f80b114",
   "metadata": {},
   "outputs": [
    {
     "name": "stdin",
     "output_type": "stream",
     "text": [
      "a: 2\n",
      "b: 2\n"
     ]
    },
    {
     "name": "stdout",
     "output_type": "stream",
     "text": [
      "4\n",
      "0\n",
      "1.0\n",
      "4\n"
     ]
    }
   ],
   "source": [
    "def add(a,b):\n",
    "    return a+b\n",
    "\n",
    "\n",
    "def mult(a,b):\n",
    "    return a*b\n",
    "\n",
    "\n",
    "def div(a,b):\n",
    "    return a/b\n",
    "\n",
    "def sub(a,b):\n",
    "    return a-b\n",
    "\n",
    "y = int(input(\"a:\"))\n",
    "x = int(input(\"b:\"))\n",
    "\n",
    "print(add(y,x))\n",
    "print(sub(y,x))\n",
    "print(div(y,x))\n",
    "print(mult(y,x))"
   ]
  },
  {
   "cell_type": "code",
   "execution_count": 55,
   "id": "f7e2d76e-7229-4c6d-8562-4726d2473f9d",
   "metadata": {},
   "outputs": [
    {
     "name": "stdout",
     "output_type": "stream",
     "text": [
      "[10, 20, 30]\n",
      "[40, 50]\n"
     ]
    }
   ],
   "source": [
    "numbers = [10, 20, 30, 40, 50, 60]\n",
    "\n",
    "print(numbers[0:3])\n",
    "print(numbers[-3:-1])\n"
   ]
  },
  {
   "cell_type": "code",
   "execution_count": 63,
   "id": "9c43dc3b-d25c-4d29-a14e-c2bc188f103d",
   "metadata": {},
   "outputs": [
    {
     "name": "stdin",
     "output_type": "stream",
     "text": [
      "Enter string: yahia\n"
     ]
    },
    {
     "name": "stdout",
     "output_type": "stream",
     "text": [
      "YAHIA yahia aihay\n"
     ]
    }
   ],
   "source": [
    "userInput = input(\"Enter string:\")\n",
    "up = userInput.upper()\n",
    "low = userInput.lower()\n",
    "reverse = userInput[::-1]\n",
    "print(up,low,reverse)"
   ]
  },
  {
   "cell_type": "code",
   "execution_count": 67,
   "id": "ecee289f-103f-4236-8f90-970917dd9028",
   "metadata": {},
   "outputs": [
    {
     "name": "stdin",
     "output_type": "stream",
     "text": [
      "Enter string: 123\n"
     ]
    },
    {
     "name": "stdout",
     "output_type": "stream",
     "text": [
      "odd\n"
     ]
    }
   ],
   "source": [
    "num = int(input(\"Enter number:\"))\n",
    "\n",
    "if num % 2 == 0:\n",
    "    print(\"even\")\n",
    "elif num % 2 != 0:\n",
    "    print(\"odd\")\n",
    "else:\n",
    "    print(\"zero\")\n"
   ]
  },
  {
   "cell_type": "code",
   "execution_count": 69,
   "id": "8b4f0313-3629-4cbb-8ebd-abed12e9fc9a",
   "metadata": {},
   "outputs": [
    {
     "name": "stdout",
     "output_type": "stream",
     "text": [
      "15\n",
      "30\n",
      "45\n"
     ]
    }
   ],
   "source": [
    "for i in range(1,51):\n",
    "    if i % 3 == 0 and i % 5 == 0:\n",
    "        print(i)"
   ]
  },
  {
   "cell_type": "code",
   "execution_count": 85,
   "id": "21fa3dc4-366d-4a83-b5fd-bbe1ab941e6e",
   "metadata": {},
   "outputs": [
    {
     "name": "stdin",
     "output_type": "stream",
     "text": [
      "Enter a number for its factorial: 5\n"
     ]
    },
    {
     "name": "stdout",
     "output_type": "stream",
     "text": [
      "120\n"
     ]
    }
   ],
   "source": [
    "def factorial(a):\n",
    "    if a == 2:\n",
    "        return 2\n",
    "    return a*factorial(a-1)\n",
    "\n",
    "\n",
    "user = int(input(\"Enter a number for its factorial:\"))\n",
    "\n",
    "print(factorial(user))"
   ]
  },
  {
   "cell_type": "code",
   "execution_count": 87,
   "id": "3be9c143-5758-4545-beb2-6838730e77d5",
   "metadata": {},
   "outputs": [
    {
     "name": "stdout",
     "output_type": "stream",
     "text": [
      "[2, 4, 6, 8, 10, 12, 14, 16, 18, 20, 22, 24, 26, 28, 30, 32, 34, 36, 38, 40]\n"
     ]
    }
   ],
   "source": [
    "newlist = [x*2 for x in range(1,21)]\n",
    "print(newlist)"
   ]
  },
  {
   "cell_type": "code",
   "execution_count": 107,
   "id": "c86f3168-5da9-4c07-a76e-57555e09dee1",
   "metadata": {},
   "outputs": [
    {
     "name": "stdin",
     "output_type": "stream",
     "text": [
      "enter string aadd\n"
     ]
    },
    {
     "name": "stdout",
     "output_type": "stream",
     "text": [
      "{'a': 2, 'd': 2}\n"
     ]
    }
   ],
   "source": [
    "def frequency(a):\n",
    "    freq = {}\n",
    "    for i in a:\n",
    "        if i not in freq:\n",
    "            freq[i] = 1\n",
    "        else:\n",
    "            freq[i] += 1\n",
    "    return freq\n",
    "\n",
    "string = input(\"enter string\").lower()\n",
    "print(frequency(string))"
   ]
  },
  {
   "cell_type": "code",
   "execution_count": 115,
   "id": "fbb99467-5588-4db7-b472-35d03704b0c7",
   "metadata": {},
   "outputs": [
    {
     "name": "stdout",
     "output_type": "stream",
     "text": [
      "1\n",
      "12\n",
      "123\n",
      "1234\n"
     ]
    }
   ],
   "source": [
    "def printer(n):\n",
    "    for i in range(1,n+1):\n",
    "        for j in range(1,i+1):\n",
    "            print(j, end=\"\")\n",
    "        print()\n",
    "\n",
    "printer(4)"
   ]
  },
  {
   "cell_type": "code",
   "execution_count": 117,
   "id": "7f7fb902-3049-4fb0-b794-4fd883af0292",
   "metadata": {},
   "outputs": [
    {
     "ename": "SyntaxError",
     "evalue": "incomplete input (1696428709.py, line 8)",
     "output_type": "error",
     "traceback": [
      "\u001b[1;36m  Cell \u001b[1;32mIn[117], line 8\u001b[1;36m\u001b[0m\n\u001b[1;33m    print(errorHandledDivision(3,0)\u001b[0m\n\u001b[1;37m                                   ^\u001b[0m\n\u001b[1;31mSyntaxError\u001b[0m\u001b[1;31m:\u001b[0m incomplete input\n"
     ]
    }
   ],
   "source": [
    "def errorHandledDivision(a,b):\n",
    "    if b == 0:\n",
    "        print(\"You cannot divide by zero\")\n",
    "        return\n",
    "    else:\n",
    "        return a/b\n",
    "\n",
    "print(errorHandledDivision(3,0)"
   ]
  },
  {
   "cell_type": "code",
   "execution_count": null,
   "id": "c0970852-04eb-4dff-a8f2-b9345d05a253",
   "metadata": {},
   "outputs": [],
   "source": []
  }
 ],
 "metadata": {
  "kernelspec": {
   "display_name": "Python 3 (ipykernel)",
   "language": "python",
   "name": "python3"
  },
  "language_info": {
   "codemirror_mode": {
    "name": "ipython",
    "version": 3
   },
   "file_extension": ".py",
   "mimetype": "text/x-python",
   "name": "python",
   "nbconvert_exporter": "python",
   "pygments_lexer": "ipython3",
   "version": "3.12.7"
  }
 },
 "nbformat": 4,
 "nbformat_minor": 5
}
